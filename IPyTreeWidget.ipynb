{
 "cells": [
  {
   "cell_type": "markdown",
   "metadata": {},
   "source": [
    "#### Tree Widget for Jupyter Notebook\n",
    "\n",
    "Eduard Klyshinsky, 2020"
   ]
  },
  {
   "cell_type": "code",
   "execution_count": 1,
   "metadata": {},
   "outputs": [],
   "source": [
    "from ipywidgets import HTML\n",
    "from IPython import get_ipython"
   ]
  },
  {
   "cell_type": "code",
   "execution_count": 8,
   "metadata": {},
   "outputs": [
    {
     "data": {
      "text/html": [
       "<script>\n",
       "function showHideTree(ide, prefix, ida){\n",
       "    if(document.getElementById(ida).innerHTML==\"▼\")\n",
       "    {document.getElementById(ide).style.display=prefix+\"block\";\n",
       "     document.getElementById(ida).innerHTML=\"▲\";}\n",
       "    else if(document.getElementById(ida).innerHTML==\"▲\")\n",
       "    {document.getElementById(ide).style.display=\"none\";\n",
       "     document.getElementById(ida).innerHTML=\"▼\";}\n",
       "     \n",
       "    if(document.getElementById(ida).innerHTML==\"►\")\n",
       "    {document.getElementById(ide).style.display=\"inline-block\";\n",
       "     document.getElementById(ida).innerHTML=\"◄\";}\n",
       "    else if(document.getElementById(ida).innerHTML==\"◄\")\n",
       "    {document.getElementById(ide).style.display=\"none\";\n",
       "     document.getElementById(ida).innerHTML=\"►\";}\n",
       "}\n",
       "</script>\n"
      ],
      "text/plain": [
       "<IPython.core.display.HTML object>"
      ]
     },
     "metadata": {},
     "output_type": "display_data"
    }
   ],
   "source": [
    "# this is source code of widget.\n",
    "\n",
    "\"\"\" \n",
    "TreeWidget class accepts a Python dictionary/list and draws a tree in Jupyther notebook.\n",
    "Uses HTML widget from ipywidgets. All nodes and hints are collapsable.\n",
    "A tree is a node or list of nodes.\n",
    "A node is a dictionary containing string keys associated with proper values:\n",
    "text - text label for a node.\n",
    "hint - extra information connected to a node.\n",
    "childs - list of nodes.\n",
    "text-color, text-bkcolor - color of the text and background of a node. Use HTML colors here.\n",
    "hint-color, hint-bkcolor - color of the hint's text and background of a node. Use HTML colors here.\n",
    "\"\"\"\n",
    "class TreeWidget:\n",
    "    # Node Id\n",
    "    _freeId = 1\n",
    "    \n",
    "    # Adds a script for collapsing nodes and hints to the notebook.\n",
    "    get_ipython().run_cell_magic(\"html\",\"\", \"\"\"<script>\n",
    "function showHideTree(ide, prefix, ida){\n",
    "    if(document.getElementById(ida).innerHTML==\"▼\")\n",
    "    {document.getElementById(ide).style.display=prefix+\"block\";\n",
    "     document.getElementById(ida).innerHTML=\"▲\";}\n",
    "    else if(document.getElementById(ida).innerHTML==\"▲\")\n",
    "    {document.getElementById(ide).style.display=\"none\";\n",
    "     document.getElementById(ida).innerHTML=\"▼\";}\n",
    "     \n",
    "    if(document.getElementById(ida).innerHTML==\"►\")\n",
    "    {document.getElementById(ide).style.display=\"inline-block\";\n",
    "     document.getElementById(ida).innerHTML=\"◄\";}\n",
    "    else if(document.getElementById(ida).innerHTML==\"◄\")\n",
    "    {document.getElementById(ide).style.display=\"none\";\n",
    "     document.getElementById(ida).innerHTML=\"►\";}\n",
    "}\n",
    "</script>\n",
    "\"\"\")\n",
    "    \n",
    "    \"\"\" Default constructor.\n",
    "    \"\"\"\n",
    "    def __init__(self):\n",
    "        self.data = None\n",
    "    \n",
    "    \"\"\" Generates HTML code for a tree. I don't want to use any extra libraries here.\n",
    "    \"\"\"\n",
    "    def _generateHTML(self, data):\n",
    "        # Tree is a collapsable list.\n",
    "        html = '<ul style=\"list-style-type:none; margin-left:-25px; line-height:1.5\">'\n",
    "        for node in data:\n",
    "            html += '<li>'\n",
    "            text = node.get('text', '')\n",
    "            \n",
    "            # If there is any childs - add an arrow for folding/unfolding the branch.\n",
    "            cur_id = -1\n",
    "            childs_count = len(node.get(\"childs\", []))\n",
    "            if childs_count != 0:\n",
    "                cur_id = TreeWidget._freeId\n",
    "                TreeWidget._freeId += 1\n",
    "                html += f'<a nohref onclick=\\'showHideTree(\"tli{cur_id}\", \"\", \"tli1a{cur_id}\");\\' style=\"text-decoration:none; color:black\"><div id=\"tli1a{cur_id}\" style=\"display:inline-block;margin-right:5px\">▼</div></a>\\n'\n",
    "            else:\n",
    "                html += f'<div style=\"display:inline-block;margin-right:5px;opacity:0\">▼</div>\\n'\n",
    "            textbkcolor = node.get(\"text-bkcolor\", \"#FFFFFF\")\n",
    "            textcolor = node.get(\"text-color\", \"#000000\")\n",
    "            # A kind of callback for clicking on the node. \n",
    "            # Currently you cannot do any output here, just calculations.\n",
    "            if \"onclick\" in node.keys():\n",
    "                onclick = f'onclick=\"IPython.notebook.kernel.execute(\\'{node[\"onclick\"]}\\')\"'\n",
    "            else:\n",
    "                onclick = \"\"\n",
    "            # Adds the node's label.\n",
    "            html += f'<div style=\"display:inline-block; background-color:{textbkcolor}; color:{textcolor}\" {onclick}>'+ \\\n",
    "                    text+'</div>'\n",
    "            # Adds collapsable hnt if any. With an arrow to collapse.\n",
    "            hint = node.get('hint', '')\n",
    "            if hint != \"\":\n",
    "                if cur_id == -1:\n",
    "                    cur_id = TreeWidget._freeId\n",
    "                    TreeWidget._freeId += 1\n",
    "                    \n",
    "                hintbkcolor = node.get(\"hint-bkcolor\", \"#FFFFFF\")\n",
    "                hintcolor = node.get(\"hint-color\", \"#000000\")\n",
    "                html += f'<a nohref onclick=\\'showHideTree(\"tli2a{cur_id}\", \"inline-\", \"tli3a{cur_id}\");\\' style=\"text-decoration:none; color:black\"><div id=\"tli3a{cur_id}\" style=\"display:inline-block;margin-left:5px\">►</div></a>\\n'\n",
    "                html += f'<div style=\"display:none; background-color:{hintbkcolor}; color:{hintcolor}\" id=\"tli2a{cur_id}\">{hint}</div>\\n'\n",
    "            # Final code for the case if we have any children.\n",
    "            if childs_count != 0:\n",
    "                html += f'<div style=\"display:none\" id=\"tli{cur_id}\">\\n'\n",
    "                html += self._generateHTML(node[\"childs\"])\n",
    "                html +='</div>'\n",
    "        html += \"</ul>\"\n",
    "        return html        \n",
    "        \n",
    "    \"\"\" Accepts a dictionary, generates an HTML page and draws it.\n",
    "        A tree is a node or list of nodes.\n",
    "        A node is a dictionary containing string keys associated with proper values:\n",
    "        text - text label for a node.\n",
    "        hint - extra information connected to a node.\n",
    "        childs - list of nodes.\n",
    "        text-color, text-bkcolor - color of the text and background of a node. Use HTML colors here.\n",
    "        hint-color, hint-bkcolor - color of the hint's text and background of a node. Use HTML colors here.\n",
    "    \"\"\"\n",
    "    def show(self, data=None):\n",
    "        # We accepting list and dict only!\n",
    "        if data != None:\n",
    "            if type(data) is dict:\n",
    "                self.data = [data]\n",
    "            elif type(data) is list:\n",
    "                self.data = data\n",
    "            else:\n",
    "                display(HTML(\"<b>You should pass either list or dictionary!</b>\"))\n",
    "                return\n",
    "            \n",
    "        if data == None:\n",
    "            return\n",
    "            \n",
    "        # Draw a border. Need to be moved to properties.\n",
    "        html = '<div style=\"border: 1px solid black\">'\n",
    "        html += self._generateHTML(data)\n",
    "        html += '</div>'\n",
    "            \n",
    "        # Generates and draws an HTML page.\n",
    "        page = HTML()\n",
    "        page.value = html\n",
    "        display(page)"
   ]
  },
  {
   "cell_type": "code",
   "execution_count": 21,
   "metadata": {},
   "outputs": [
    {
     "data": {
      "application/vnd.jupyter.widget-view+json": {
       "model_id": "7c2461ac7a9447c1970cc7a3c3646c4a",
       "version_major": 2,
       "version_minor": 0
      },
      "text/plain": [
       "HTML(value='<div style=\"border: 1px solid black\"><ul style=\"list-style-type:none; margin-left:-25px; line-heig…"
      ]
     },
     "metadata": {},
     "output_type": "display_data"
    },
    {
     "data": {
      "application/vnd.jupyter.widget-view+json": {
       "model_id": "3f4b16dc82164e4db23a608d98ff6a3f",
       "version_major": 2,
       "version_minor": 0
      },
      "text/plain": [
       "HTML(value='<div style=\"border: 1px solid black\"><ul style=\"list-style-type:none; margin-left:-25px; line-heig…"
      ]
     },
     "metadata": {},
     "output_type": "display_data"
    }
   ],
   "source": [
    "newval = 0\n",
    "\n",
    "def dummy():\n",
    "    global newval\n",
    "    newval += 1\n",
    "\n",
    "# Creates the following tree.    \n",
    "# 1 - A lot of text\n",
    "#    1.1\n",
    "#    1.2 - A lot of text 2\n",
    "#    1.3 - A lot of text 3\n",
    "# 2\n",
    "#    2.1 - A lot of text 4\n",
    "#       2.1.1 - A lot of text 5\n",
    "#       2.1.3\n",
    "#       2.1.4\n",
    "#    2.2\n",
    "#    2.3\n",
    "    \n",
    "data = [{\"text\":\"1\", \"hint\":\"A lot of text\", \"onclick\":\"dummy()\",\n",
    "         \"childs\": [{\"text\":\"1.1\"},\n",
    "                    {\"text\":\"1.2\",\"hint\":\"A lot of text 2\"}, \n",
    "                    {\"text\":\"1.3\", \"hint\":\"A lot of text 3\"}]},\n",
    "        {\"text\":\"2\", \n",
    "         \"childs\": [{\"text\":\"2.1\", \n",
    "                     \"hint\":\"A lot of text 4\", \"hint-bkcolor\":\"#1F0772\", \"hint-color\":\"#FFE673\",\n",
    "                     \"text-bkcolor\":\"#6949D7\", \"text-color\":\"#FFE673\",\n",
    "                     \"childs\": [{\"text\":\"2.1.1\", \"hint\":\"A lot of text 5\"},\n",
    "                                {\"text\":\"2.1.2\"}, \n",
    "                                {\"text\":\"2.1.3\"}]},\n",
    "                    {\"text\":\"2.2\", \"text-bkcolor\":\"black\", \"text-color\":\"#FF8800\"}, \n",
    "                    {\"text\":\"2.3\", \"text-bkcolor\":\"#6949D7\", \"text-color\":\"#FFE673\"}]}\n",
    "       ]\n",
    "\n",
    "# Creates a tree widget and draws the tree above.\n",
    "tr = TreeWidget()\n",
    "tr.show(data)\n",
    "\n",
    "# Creates the second tree (just for see that we can).\n",
    "tr2 = TreeWidget()\n",
    "tr2.show(data)"
   ]
  },
  {
   "cell_type": "code",
   "execution_count": null,
   "metadata": {},
   "outputs": [],
   "source": []
  }
 ],
 "metadata": {
  "kernelspec": {
   "display_name": "Python 3",
   "language": "python",
   "name": "python3"
  },
  "language_info": {
   "codemirror_mode": {
    "name": "ipython",
    "version": 3
   },
   "file_extension": ".py",
   "mimetype": "text/x-python",
   "name": "python",
   "nbconvert_exporter": "python",
   "pygments_lexer": "ipython3",
   "version": "3.6.9"
  }
 },
 "nbformat": 4,
 "nbformat_minor": 4
}
