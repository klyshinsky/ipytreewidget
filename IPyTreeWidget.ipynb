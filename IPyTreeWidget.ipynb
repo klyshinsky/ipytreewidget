{
 "cells": [
  {
   "cell_type": "markdown",
   "metadata": {},
   "source": [
    "#### Tree Widget for Jupyter Notebook\n",
    "\n",
    "Eduard Klyshinsky, 2020"
   ]
  },
  {
   "cell_type": "code",
   "execution_count": 1,
   "metadata": {},
   "outputs": [
    {
     "data": {
      "text/html": [
       "<script>\n",
       "var timer;\n",
       "    \n",
       "function showHideTree(ide, prefix, ida){\n",
       "    if(document.getElementById(ida).innerHTML==\"▼\") {\n",
       "      document.getElementById(ide).style.display=prefix+\"block\";\n",
       "      document.getElementById(ida).innerHTML=\"▲\";}\n",
       "    else if(document.getElementById(ida).innerHTML==\"▲\") {\n",
       "      document.getElementById(ide).style.display=\"none\";\n",
       "      document.getElementById(ida).innerHTML=\"▼\";}\n",
       "     \n",
       "    if(document.getElementById(ida).innerHTML==\"►\") {\n",
       "      document.getElementById(ide).style.display=\"inline-block\";\n",
       "      document.getElementById(ida).innerHTML=\"◄\";}\n",
       "    else if(document.getElementById(ida).innerHTML==\"◄\") {\n",
       "      document.getElementById(ide).style.display=\"none\";\n",
       "      document.getElementById(ida).innerHTML=\"►\";}\n",
       "}\n",
       "\n",
       "function expandTree(element, display, prefix){\n",
       "  if( element.id.substr(0,4)==\"tlim\" ) {\n",
       "    var s = element.id.substr(0,3)+'a'+element.id.substr(4,20)\n",
       "    showHideTree(element.id, prefix, s);\n",
       "  }\n",
       "  \n",
       "  for(var i=0; i<element.children.length; i++) {\n",
       "    if(element.children[i].id[3]=='m' || element.children[i].id[3]=='a'|| element.children[i].id==\"\")\n",
       "      expandTree(element.children[i], display, prefix);\n",
       "  }  \n",
       "}\n",
       "\n",
       "function doubleClickTree(ide, prefix, ida){\n",
       "  if (timer) clearTimeout(timer);\n",
       "  \n",
       "  if(document.getElementById(ida).innerHTML==\"▼\") \n",
       "    expandTree(document.getElementById(ide), prefix+\"block\", prefix)\n",
       "  else if(document.getElementById(ida).innerHTML==\"▲\")\n",
       "    expandTree(document.getElementById(ide), \"none\", \"\")\n",
       "}\n",
       "</script>\n"
      ],
      "text/plain": [
       "<IPython.core.display.HTML object>"
      ]
     },
     "metadata": {},
     "output_type": "display_data"
    }
   ],
   "source": [
    "from ipytreewidget import TreeWidget"
   ]
  },
  {
   "cell_type": "code",
   "execution_count": 2,
   "metadata": {},
   "outputs": [
    {
     "data": {
      "application/vnd.jupyter.widget-view+json": {
       "model_id": "e39360d9b52c48c585f8a85f82b13e97",
       "version_major": 2,
       "version_minor": 0
      },
      "text/plain": [
       "HTML(value='<div style=\"border: 1px solid #DDDDDD\"><ul style=\"list-style-type:none; margin-left:-25px; line-he…"
      ]
     },
     "metadata": {},
     "output_type": "display_data"
    },
    {
     "data": {
      "application/vnd.jupyter.widget-view+json": {
       "model_id": "5296bc00d46f45839d599d4285ec3b5d",
       "version_major": 2,
       "version_minor": 0
      },
      "text/plain": [
       "HTML(value='<div style=\"border: 1px solid #DDDDDD\"><div style=\"width:100%;background-color:#DDDDDD;padding-lef…"
      ]
     },
     "metadata": {},
     "output_type": "display_data"
    }
   ],
   "source": [
    "newval = 0\n",
    "\n",
    "def dummy():\n",
    "    global newval\n",
    "    newval += 1\n",
    "\n",
    "# Creates the following tree.    \n",
    "# 1 - A lot of text\n",
    "#    1.1\n",
    "#    1.2 - A lot of text 2\n",
    "#    1.3 - A lot of text 3\n",
    "# 2\n",
    "#    2.1 - A lot of text 4\n",
    "#       2.1.1 - A lot of text 5\n",
    "#       2.1.3\n",
    "#       2.1.4\n",
    "#    2.2\n",
    "#    2.3\n",
    "# Double click on a up and down arrow folds and unfols the whole subtree.\n",
    "# By clicking the node \"1\" you are increasing value of `newval` variable.\n",
    "    \n",
    "data = {\"text\":0, \"childs\":\n",
    "        [{\"text\":\"1\", \"hint\":\"A lot of text\", \"onclick\":\"dummy()\",\n",
    "          \"childs\": [{\"text\":\"1.1\"},\n",
    "                     {\"text\":\"1.2\",\"hint\":\"A lot of text 2\"}, \n",
    "                     {\"text\":\"1.3\", \"hint\":\"A lot of text 3\"}]},\n",
    "         {\"text\":\"2\", \n",
    "          \"childs\": [{\"text\":\"2.1\", \n",
    "                      \"hint\":\"A lot of text 4\", \"hint-bkcolor\":\"#1F0772\", \"hint-color\":\"#FFE673\",\n",
    "                      \"text-bkcolor\":\"#6949D7\", \"text-color\":\"#FFE673\",\n",
    "                      \"childs\": [{\"text\":\"2.1.1\", \"hint\":\"A lot of text 5\"},\n",
    "                                 {\"text\":\"2.1.2\"}, \n",
    "                                 {\"text\":\"2.1.3\"}]},\n",
    "                     {\"text\":\"2.2\", \"text-bkcolor\":\"black\", \"text-color\":\"#FF8800\"}, \n",
    "                     {\"text\":\"2.3\", \"text-bkcolor\":\"#6949D7\", \"text-color\":\"#FFE673\"}]}\n",
    "        ]\n",
    "       }\n",
    "\n",
    "# Creates a tree widget and draws the tree above.\n",
    "tr = TreeWidget()\n",
    "tr.show(data, footer=\"Footer 1\")\n",
    "\n",
    "# Creates the second tree (just for see that we can).\n",
    "tr2 = TreeWidget()\n",
    "tr2.show(data[\"childs\"], \"<b>Header</b>\", footer=\"Footer 2\")"
   ]
  }
 ],
 "metadata": {
  "kernelspec": {
   "display_name": "Python 3",
   "language": "python",
   "name": "python3"
  },
  "language_info": {
   "codemirror_mode": {
    "name": "ipython",
    "version": 3
   },
   "file_extension": ".py",
   "mimetype": "text/x-python",
   "name": "python",
   "nbconvert_exporter": "python",
   "pygments_lexer": "ipython3",
   "version": "3.6.9"
  }
 },
 "nbformat": 4,
 "nbformat_minor": 4
}
